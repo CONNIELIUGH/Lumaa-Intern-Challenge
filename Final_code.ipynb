{
 "cells": [
  {
   "cell_type": "markdown",
   "id": "6b4ff50f-18de-4b0a-bb68-8cc329a386c5",
   "metadata": {},
   "source": [
    "### Connie's Movie Recommendation System\n",
    "***\n",
    "Hello! I’m Connie, and this is all the code I used to build this Movie Recommendation System. Thank you for taking the time to run this notebook! \n",
    "\n",
    "(PS: I had no prior experience with TF-IDF or Cosine similarity, so this challenge was a bit difficult but still really fun, and I learned a lot.)"
   ]
  },
  {
   "attachments": {
    "f4f036e0-4f43-4fe6-8c6b-d38f34d2c0c4.jpg": {
     "image/jpeg": "[encoded data removed]"
    }
   },
   "cell_type": "markdown",
   "id": "3d647322-1a9a-4f0b-8198-3c07a2df4237",
   "metadata": {},
   "source": [
    "![fbcd1d400fa696aa53cb0e4e9a44a669_t.jpg](attachment:f4f036e0-4f43-4fe6-8c6b-d38f34d2c0c4.jpg)"
   ]
  },
  {
   "cell_type": "markdown",
   "id": "a7e00792-6524-41e9-87cf-cd46df490cbe",
   "metadata": {},
   "source": [
    "### Import Libraries\n",
    "I used pandas, numpy and nltk (natural language toolkit) library.\n",
    "\n",
    "**NOTE: If you don't have these three libraries download, please uncomment and run the below cell.**"
   ]
  },
  {
   "cell_type": "code",
   "execution_count": 3,
   "id": "74e50c89-7d00-4e90-95a9-17c3b1354b33",
   "metadata": {},
   "outputs": [],
   "source": [
    "# !pip install pandas==2.2.3\n",
    "# !pip install numpy==1.26.4\n",
    "# !pip install nltk==3.9.1"
   ]
  },
  {
   "cell_type": "code",
   "execution_count": 28,
   "id": "682cd7c3-fc1e-485c-a3a7-465d4877be5a",
   "metadata": {},
   "outputs": [],
   "source": [
    "import pandas as pd\n",
    "import numpy as np # for computation purposes\n",
    "import nltk\n",
    "from nltk.tokenize import RegexpTokenizer\n",
    "from nltk.corpus import stopwords\n",
    "from nltk.stem import PorterStemmer\n",
    "\n",
    "# Download NLTK's stopwords to remove common words and improve the accuracy of tokenization and TF-IDF vectorization  \n",
    "# nltk.download(\"stopwords\") "
   ]
  },
  {
   "cell_type": "markdown",
   "id": "67f605b5-5289-4349-be0d-7551497ad155",
   "metadata": {},
   "source": [
    "### Obtaining Data\n",
    "***\n",
    "I obtained the movie dataset from The Movie Database (TMDB) API because it collects the most recent data. I then saved it as \"movies.csv\", containing 300 of the latest English language movies along with their titles and descriptions (words are lowercased and punctuation removed).\n",
    "\n",
    "Note: The code below performs the API request, but it's commented out since all data has already been saved to movies.csv to save time!\n"
   ]
  },
  {
   "cell_type": "code",
   "execution_count": 5,
   "id": "59e46397-2dae-481a-bb08-3068f8d71d56",
   "metadata": {
    "slideshow": {
     "slide_type": "subslide"
    }
   },
   "outputs": [],
   "source": [
    "# import requests\n",
    "\n",
    "# def get_movies(lang, freq):\n",
    "#     url = 'https://api.themoviedb.org/3/movie/popular?api_key={api_key}&with_original_language={lang}'.format(api_key=api_key,lang=lang)\n",
    "#     movies = []\n",
    "#     page = 1\n",
    "#     while len(movies) < freq:\n",
    "#         try:\n",
    "#             res = requests.get(url + \"&page=\" + str(page))\n",
    "#         except:\n",
    "#             raise (\"not connected to internet or movidb issue\")\n",
    "\n",
    "#         # not valid status code\n",
    "#         if res.status_code != 200:\n",
    "#             print(\"error\")\n",
    "#             return []\n",
    "#         res = res.json()\n",
    "#         if \"errors\" in res.keys():\n",
    "#             print(\"api error!\")\n",
    "#             return movies\n",
    "#         movies = movies + res[\"results\"]\n",
    "#         # movies = movies + {key: res[\"results\"][key] for key in res[\"results\"].keys() \n",
    "#         #                    if (key == \"overview\") or (key == \"title\")}\n",
    "#         # print(\"Hello\", res[\"results\"])\n",
    "#         page = page + 1\n",
    "#     return movies\n",
    "\n",
    "# all_movies = get_movies(\"en\", 300)\n",
    "\n",
    "# # keep only overview and title of each movie\n",
    "# # remove punctuations and lowercase movie overviews\n",
    "# all_movies = [{key: re.sub(r\"[^\\w\\s]\", \"\", movie[key]).lower() for key in movie if key in {\"overview\", \"title\"}} for movie in all_movies]\n",
    "# all_movies_df = pd.DataFrame(all_movies)\n",
    "# all_movies_df.to_csv(\"movies.csv\", index = False)\n"
   ]
  },
  {
   "cell_type": "markdown",
   "id": "d5b0a1c9-c803-4d72-af52-a103a3999e1b",
   "metadata": {},
   "source": [
    "### Data Processing (Tokenization, Stopwords Removal, Stemming)\n",
    "***"
   ]
  },
  {
   "cell_type": "markdown",
   "id": "f7229693-f088-42fa-beb3-5026b4630ab0",
   "metadata": {},
   "source": [
    "#### Tokenization \n",
    "Tokenization splits the movie overviews into individual words, making it easier to process and analyze the text in later steps."
   ]
  },
  {
   "cell_type": "code",
   "execution_count": 29,
   "id": "4c2b2e16-3a28-49ba-875f-d33a92d39f4b",
   "metadata": {},
   "outputs": [
    {
     "data": {
      "text/html": [
       "<div>\n",
       "<style scoped>\n",
       "    .dataframe tbody tr th:only-of-type {\n",
       "        vertical-align: middle;\n",
       "    }\n",
       "\n",
       "    .dataframe tbody tr th {\n",
       "        vertical-align: top;\n",
       "    }\n",
       "\n",
       "    .dataframe thead th {\n",
       "        text-align: right;\n",
       "    }\n",
       "</style>\n",
       "<table border=\"1\" class=\"dataframe\">\n",
       "  <thead>\n",
       "    <tr style=\"text-align: right;\">\n",
       "      <th></th>\n",
       "      <th>overview</th>\n",
       "      <th>title</th>\n",
       "    </tr>\n",
       "  </thead>\n",
       "  <tbody>\n",
       "    <tr>\n",
       "      <th>0</th>\n",
       "      <td>after receiving an unexpected call from her wa...</td>\n",
       "      <td>moana 2</td>\n",
       "    </tr>\n",
       "    <tr>\n",
       "      <th>1</th>\n",
       "      <td>a heroic true story of major mukund varadaraja...</td>\n",
       "      <td>amaran</td>\n",
       "    </tr>\n",
       "    <tr>\n",
       "      <th>2</th>\n",
       "      <td>sonic knuckles and tails reunite against a pow...</td>\n",
       "      <td>sonic the hedgehog 3</td>\n",
       "    </tr>\n",
       "    <tr>\n",
       "      <th>3</th>\n",
       "      <td>after meeting with newly elected us president ...</td>\n",
       "      <td>captain america brave new world</td>\n",
       "    </tr>\n",
       "    <tr>\n",
       "      <th>4</th>\n",
       "      <td>international action star jackie chan is invit...</td>\n",
       "      <td>panda plan</td>\n",
       "    </tr>\n",
       "  </tbody>\n",
       "</table>\n",
       "</div>"
      ],
      "text/plain": [
       "                                            overview  \\\n",
       "0  after receiving an unexpected call from her wa...   \n",
       "1  a heroic true story of major mukund varadaraja...   \n",
       "2  sonic knuckles and tails reunite against a pow...   \n",
       "3  after meeting with newly elected us president ...   \n",
       "4  international action star jackie chan is invit...   \n",
       "\n",
       "                             title  \n",
       "0                          moana 2  \n",
       "1                           amaran  \n",
       "2             sonic the hedgehog 3  \n",
       "3  captain america brave new world  \n",
       "4                       panda plan  "
      ]
     },
     "execution_count": 29,
     "metadata": {},
     "output_type": "execute_result"
    }
   ],
   "source": [
    "# A preview of what the dataset looks like!\n",
    "# There's one row with an empty overview, so I will drop that row.\n",
    "movies_dataset = pd.read_csv(\"movies.csv\").dropna()\n",
    "\n",
    "# Keep a copy of the dataset with untokenized overviews for reference later\n",
    "old_movies_dataset = movies_dataset.copy()\n",
    "movies_dataset.head(5)"
   ]
  },
  {
   "cell_type": "code",
   "execution_count": 30,
   "id": "b59a4179-cfa6-4373-b220-044dbd90945d",
   "metadata": {},
   "outputs": [],
   "source": [
    "tokenizer = RegexpTokenizer(r\"\\b\\w+\\b\")\n",
    "movies_dataset[\"overview\"] = movies_dataset[\"overview\"].apply(tokenizer.tokenize)"
   ]
  },
  {
   "cell_type": "markdown",
   "id": "9c47d2de-ce6e-4dee-836d-de5f469e3518",
   "metadata": {},
   "source": [
    "#### Stopwords Removal\n",
    "Remove unnecessary stopwords (ex. \"to\", \"the\", ...) to lower computational burden and to enhance the accuracy of TF-IDF analysis later."
   ]
  },
  {
   "cell_type": "code",
   "execution_count": 31,
   "id": "917cacbc-b3e8-4fe5-9517-4314d43b0e7b",
   "metadata": {},
   "outputs": [],
   "source": [
    "# stop_words = set(stopwords.words(\"english\"))\n",
    "stop_words = {'a', 'about', 'above', 'after', 'again', 'against', 'ain', 'all', 'am', 'an', 'and', 'any', 'are', 'aren', \"aren't\", 'as', 'at', 'be', 'because', 'been', 'before', 'being', 'below', 'between', 'both', 'but', 'by', 'can', 'couldn', \"couldn't\", 'd', 'did', 'didn', \"didn't\", 'do', 'does', 'doesn', \"doesn't\", 'doing', 'don', \"don't\", 'down', 'during', 'each', 'few', 'for', 'from', 'further', 'had', 'hadn', \"hadn't\", 'has', 'hasn', \"hasn't\", 'have', 'haven', \"haven't\", 'having', 'he', \"he'd\", \"he'll\", \"he's\", 'her', 'here', 'hers', 'herself', 'him', 'himself', 'his', 'how', 'i', \"i'd\", \"i'll\", \"i'm\", \"i've\", 'if', 'in', 'into', 'is', 'isn', \"isn't\", 'it', \"it'd\", \"it'll\", \"it's\", 'its', 'itself', 'just', 'll', 'm', 'ma', 'me', 'mightn', \"mightn't\", 'more', 'most', 'mustn', \"mustn't\", 'my', 'myself', 'needn', \"needn't\", 'no', 'nor', 'not', 'now', 'o', 'of', 'off', 'on', 'once', 'only', 'or', 'other', 'our', 'ours', 'ourselves', 'out', 'over', 'own', 're', 's', 'same', 'shan', \"shan't\", 'she', \"she'd\", \"she'll\", \"she's\", 'should', \"should've\", 'shouldn', \"shouldn't\", 'so', 'some', 'such', 't', 'than', 'that', \"that'll\", 'the', 'their', 'theirs', 'them', 'themselves', 'then', 'there', 'these', 'they', \"they'd\", \"they'll\", \"they're\", \"they've\", 'this', 'those', 'through', 'to', 'too', 'under', 'until', 'up', 've', 'very', 'was', 'wasn', \"wasn't\", 'we', \"we'd\", \"we'll\", \"we're\", \"we've\", 'were', 'weren', \"weren't\", 'what', 'when', 'where', 'which', 'while', 'who', 'whom', 'why', 'will', 'with', 'won', \"won't\", 'wouldn', \"wouldn't\", 'y', 'you', \"you'd\", \"you'll\", \"you're\", \"you've\", 'your', 'yours', 'yourself', 'yourselves'}\n",
    "movies_dataset[\"overview\"] = movies_dataset[\"overview\"].apply(lambda tokens: [token for token in tokens if token not in stop_words])"
   ]
  },
  {
   "cell_type": "markdown",
   "id": "b277f0e9-79d1-48e0-81c2-b906e4afdc22",
   "metadata": {},
   "source": [
    "#### Lexicon Normalization (Stemming)\n",
    "Stemming reduces words like \"plays\" and \"played\" to their root form \"play\" to ensure consistency in analysis."
   ]
  },
  {
   "cell_type": "code",
   "execution_count": 32,
   "id": "037a48bc-0e7d-4f70-8f68-7c45feb02bd2",
   "metadata": {},
   "outputs": [],
   "source": [
    "ps = PorterStemmer()\n",
    "movies_dataset[\"overview\"] = movies_dataset[\"overview\"].apply(lambda tokens: [ps.stem(token) for token in tokens])"
   ]
  },
  {
   "cell_type": "markdown",
   "id": "1a8bf3c5-827b-474e-a1f4-95cb9c67e8da",
   "metadata": {},
   "source": [
    "#### New look of the dataset..."
   ]
  },
  {
   "cell_type": "code",
   "execution_count": 33,
   "id": "8c445c22-2fb0-4560-8e17-cad1ec71c715",
   "metadata": {
    "scrolled": true
   },
   "outputs": [
    {
     "data": {
      "text/html": [
       "<div>\n",
       "<style scoped>\n",
       "    .dataframe tbody tr th:only-of-type {\n",
       "        vertical-align: middle;\n",
       "    }\n",
       "\n",
       "    .dataframe tbody tr th {\n",
       "        vertical-align: top;\n",
       "    }\n",
       "\n",
       "    .dataframe thead th {\n",
       "        text-align: right;\n",
       "    }\n",
       "</style>\n",
       "<table border=\"1\" class=\"dataframe\">\n",
       "  <thead>\n",
       "    <tr style=\"text-align: right;\">\n",
       "      <th></th>\n",
       "      <th>overview</th>\n",
       "      <th>title</th>\n",
       "    </tr>\n",
       "  </thead>\n",
       "  <tbody>\n",
       "    <tr>\n",
       "      <th>0</th>\n",
       "      <td>[receiv, unexpect, call, wayfind, ancestor, mo...</td>\n",
       "      <td>moana 2</td>\n",
       "    </tr>\n",
       "    <tr>\n",
       "      <th>1</th>\n",
       "      <td>[heroic, true, stori, major, mukund, varadaraj...</td>\n",
       "      <td>amaran</td>\n",
       "    </tr>\n",
       "    <tr>\n",
       "      <th>2</th>\n",
       "      <td>[sonic, knuckl, tail, reunit, power, new, adve...</td>\n",
       "      <td>sonic the hedgehog 3</td>\n",
       "    </tr>\n",
       "    <tr>\n",
       "      <th>3</th>\n",
       "      <td>[meet, newli, elect, us, presid, thaddeu, ross...</td>\n",
       "      <td>captain america brave new world</td>\n",
       "    </tr>\n",
       "    <tr>\n",
       "      <th>4</th>\n",
       "      <td>[intern, action, star, jacki, chan, invit, ado...</td>\n",
       "      <td>panda plan</td>\n",
       "    </tr>\n",
       "  </tbody>\n",
       "</table>\n",
       "</div>"
      ],
      "text/plain": [
       "                                            overview  \\\n",
       "0  [receiv, unexpect, call, wayfind, ancestor, mo...   \n",
       "1  [heroic, true, stori, major, mukund, varadaraj...   \n",
       "2  [sonic, knuckl, tail, reunit, power, new, adve...   \n",
       "3  [meet, newli, elect, us, presid, thaddeu, ross...   \n",
       "4  [intern, action, star, jacki, chan, invit, ado...   \n",
       "\n",
       "                             title  \n",
       "0                          moana 2  \n",
       "1                           amaran  \n",
       "2             sonic the hedgehog 3  \n",
       "3  captain america brave new world  \n",
       "4                       panda plan  "
      ]
     },
     "execution_count": 33,
     "metadata": {},
     "output_type": "execute_result"
    }
   ],
   "source": [
    "movies_dataset.head(5)"
   ]
  },
  {
   "cell_type": "markdown",
   "id": "e19a6975-ea8d-4225-b6f4-fd7a68a1926f",
   "metadata": {},
   "source": [
    "### TF-IDF Analysis\n",
    "TF-IDF quantifies important words in movie overviews to improve recommendation accuracy and later use in similarity calculations.\n",
    "\n",
    "**Note: Be sure to run the cell below, as it will be needed later!**"
   ]
  },
  {
   "cell_type": "code",
   "execution_count": 34,
   "id": "7e11ba6c-c7cd-47c5-ad8c-a5de619ad74b",
   "metadata": {
    "scrolled": true
   },
   "outputs": [],
   "source": [
    "# Define a function to process the user input and compute TF-IDF for movie overviews\n",
    "# The function takes 'inp' (user input) and 'movies_dataset' (data of movies)\n",
    "\n",
    "def find_tfidf(inp, movies_dataset):\n",
    "    # Tokenize, remove stopwords, and apply stemming to user input\n",
    "    inp = [ps.stem(token) for token in tokenizer.tokenize(inp) if token not in stop_words]\n",
    "    \n",
    "    # Add user input to the movie overviews series\n",
    "    overview_and_input = pd.concat([movies_dataset[\"overview\"], pd.Series([inp], index=[max(movies_dataset[\"overview\"].index) + 1])])\n",
    "    \n",
    "    # Get all unique words from the combined overviews and input\n",
    "    unique_words = overview_and_input.explode().value_counts().index\n",
    "\n",
    "    # Calculate TF-IDF for each word\n",
    "    tfidf_dict = {}\n",
    "    for word in unique_words:\n",
    "        # Compute term frequency (TF)\n",
    "        tf = overview_and_input.apply(lambda tokens: tokens.count(word) / len(tokens))\n",
    "        # Compute inverse document frequency (IDF)\n",
    "        idf = np.log(len(overview_and_input) / sum(overview_and_input.apply(lambda tokens: word in tokens)))\n",
    "        tfidf_dict[word] = tf * idf\n",
    "    \n",
    "    # Return a DataFrame where columns are unique words and each row corresponds to a movie\n",
    "    return pd.DataFrame(tfidf_dict)\n"
   ]
  },
  {
   "cell_type": "markdown",
   "id": "7c14c0d3-e4ce-403a-9b83-89557f96b602",
   "metadata": {},
   "source": [
    "### Cosine Similarity Analysis \n",
    "By using Cosine Similarity to compare the TF-IDF vectors of the user input and each movie, we can identify the movies with the highest similarity. This helps recommend the top five movies that best match the user's preferences based on their input.\n",
    "\n",
    "**Note: Be sure to run the cell below, as it will be needed later!**"
   ]
  },
  {
   "cell_type": "code",
   "execution_count": 35,
   "id": "c758fb85-4260-4e3d-a0a8-46a55c4aef03",
   "metadata": {
    "scrolled": true
   },
   "outputs": [],
   "source": [
    "# Input is the TF-IDF dataframe from the find_tfidf function\n",
    "def top_cos_scores(df_tfidf):\n",
    "    \n",
    "    # Cosine similarity to measure the similarity between two vectors\n",
    "    def cosine_similarity(s1, s2):\n",
    "        return np.dot(s1, s2) / (np.linalg.norm(s1) * np.linalg.norm(s2))\n",
    "    \n",
    "    # Calculate cosine similarity between user input (last row) and all movies, then get top 5 matches\n",
    "    top_scores = df_tfidf.iloc[:-1].apply(lambda row: cosine_similarity(row, df_tfidf.iloc[-1]), axis=1).sort_values(ascending=False)[:5].index\n",
    "    \n",
    "    return top_scores\n",
    "\n"
   ]
  },
  {
   "cell_type": "markdown",
   "id": "78e35739-9c75-4684-b25a-6dd23fb95b16",
   "metadata": {},
   "source": [
    "## Getting Top 5 Movie Recommendations \n",
    "We will now use all the functions to get the top five movie recommendations based on the user's input!! 🎉🤩🍿"
   ]
  },
  {
   "cell_type": "code",
   "execution_count": 25,
   "id": "aa254dfe-5c15-47c3-b00d-5116f1b27037",
   "metadata": {},
   "outputs": [
    {
     "data": {
      "text/html": [
       "<div>\n",
       "<style scoped>\n",
       "    .dataframe tbody tr th:only-of-type {\n",
       "        vertical-align: middle;\n",
       "    }\n",
       "\n",
       "    .dataframe tbody tr th {\n",
       "        vertical-align: top;\n",
       "    }\n",
       "\n",
       "    .dataframe thead th {\n",
       "        text-align: right;\n",
       "    }\n",
       "</style>\n",
       "<table border=\"1\" class=\"dataframe\">\n",
       "  <thead>\n",
       "    <tr style=\"text-align: right;\">\n",
       "      <th></th>\n",
       "      <th>overview</th>\n",
       "      <th>title</th>\n",
       "    </tr>\n",
       "  </thead>\n",
       "  <tbody>\n",
       "    <tr>\n",
       "      <th>0</th>\n",
       "      <td>after receiving an unexpected call from her wa...</td>\n",
       "      <td>moana 2</td>\n",
       "    </tr>\n",
       "    <tr>\n",
       "      <th>1</th>\n",
       "      <td>a heroic true story of major mukund varadaraja...</td>\n",
       "      <td>amaran</td>\n",
       "    </tr>\n",
       "    <tr>\n",
       "      <th>2</th>\n",
       "      <td>sonic knuckles and tails reunite against a pow...</td>\n",
       "      <td>sonic the hedgehog 3</td>\n",
       "    </tr>\n",
       "    <tr>\n",
       "      <th>3</th>\n",
       "      <td>after meeting with newly elected us president ...</td>\n",
       "      <td>captain america brave new world</td>\n",
       "    </tr>\n",
       "    <tr>\n",
       "      <th>4</th>\n",
       "      <td>international action star jackie chan is invit...</td>\n",
       "      <td>panda plan</td>\n",
       "    </tr>\n",
       "  </tbody>\n",
       "</table>\n",
       "</div>"
      ],
      "text/plain": [
       "                                            overview  \\\n",
       "0  after receiving an unexpected call from her wa...   \n",
       "1  a heroic true story of major mukund varadaraja...   \n",
       "2  sonic knuckles and tails reunite against a pow...   \n",
       "3  after meeting with newly elected us president ...   \n",
       "4  international action star jackie chan is invit...   \n",
       "\n",
       "                             title  \n",
       "0                          moana 2  \n",
       "1                           amaran  \n",
       "2             sonic the hedgehog 3  \n",
       "3  captain america brave new world  \n",
       "4                       panda plan  "
      ]
     },
     "execution_count": 25,
     "metadata": {},
     "output_type": "execute_result"
    }
   ],
   "source": [
    "# Old movie dataset\n",
    "old_movies_dataset.head(5)"
   ]
  },
  {
   "cell_type": "code",
   "execution_count": 26,
   "id": "29c8d3fb-b7cd-462a-bb83-fc0a97c89bfc",
   "metadata": {},
   "outputs": [
    {
     "data": {
      "text/html": [
       "<div>\n",
       "<style scoped>\n",
       "    .dataframe tbody tr th:only-of-type {\n",
       "        vertical-align: middle;\n",
       "    }\n",
       "\n",
       "    .dataframe tbody tr th {\n",
       "        vertical-align: top;\n",
       "    }\n",
       "\n",
       "    .dataframe thead th {\n",
       "        text-align: right;\n",
       "    }\n",
       "</style>\n",
       "<table border=\"1\" class=\"dataframe\">\n",
       "  <thead>\n",
       "    <tr style=\"text-align: right;\">\n",
       "      <th></th>\n",
       "      <th>overview</th>\n",
       "      <th>title</th>\n",
       "    </tr>\n",
       "  </thead>\n",
       "  <tbody>\n",
       "    <tr>\n",
       "      <th>0</th>\n",
       "      <td>[receiv, unexpect, call, wayfind, ancestor, mo...</td>\n",
       "      <td>moana 2</td>\n",
       "    </tr>\n",
       "    <tr>\n",
       "      <th>1</th>\n",
       "      <td>[heroic, true, stori, major, mukund, varadaraj...</td>\n",
       "      <td>amaran</td>\n",
       "    </tr>\n",
       "    <tr>\n",
       "      <th>2</th>\n",
       "      <td>[sonic, knuckl, tail, reunit, power, new, adve...</td>\n",
       "      <td>sonic the hedgehog 3</td>\n",
       "    </tr>\n",
       "    <tr>\n",
       "      <th>3</th>\n",
       "      <td>[meet, newli, elect, us, presid, thaddeu, ross...</td>\n",
       "      <td>captain america brave new world</td>\n",
       "    </tr>\n",
       "    <tr>\n",
       "      <th>4</th>\n",
       "      <td>[intern, action, star, jacki, chan, invit, ado...</td>\n",
       "      <td>panda plan</td>\n",
       "    </tr>\n",
       "  </tbody>\n",
       "</table>\n",
       "</div>"
      ],
      "text/plain": [
       "                                            overview  \\\n",
       "0  [receiv, unexpect, call, wayfind, ancestor, mo...   \n",
       "1  [heroic, true, stori, major, mukund, varadaraj...   \n",
       "2  [sonic, knuckl, tail, reunit, power, new, adve...   \n",
       "3  [meet, newli, elect, us, presid, thaddeu, ross...   \n",
       "4  [intern, action, star, jacki, chan, invit, ado...   \n",
       "\n",
       "                             title  \n",
       "0                          moana 2  \n",
       "1                           amaran  \n",
       "2             sonic the hedgehog 3  \n",
       "3  captain america brave new world  \n",
       "4                       panda plan  "
      ]
     },
     "execution_count": 26,
     "metadata": {},
     "output_type": "execute_result"
    }
   ],
   "source": [
    "# Processed movie dataset\n",
    "movies_dataset.head(5)"
   ]
  },
  {
   "cell_type": "code",
   "execution_count": 27,
   "id": "e92db1a7-57dc-407b-9e80-a50716070726",
   "metadata": {},
   "outputs": [],
   "source": [
    "# A function that integrates all the previously written functions\n",
    "def top_5_movies():\n",
    "    user_input = input(\"Hey there! What's your taste in movies? \")\n",
    "    df_tfidf = find_tfidf(user_input, movies_dataset)\n",
    "    # Top 5 movies' index in the dataset with highest similarity scores\n",
    "    index_top_scores = top_cos_scores(df_tfidf)\n",
    "    top_df = old_movies_dataset.iloc[index_top_scores]\n",
    "    print(\"\\nHere are my TOP 5 recommendations!\\n\")\n",
    "    for i in range(top_df.shape[0]):\n",
    "        print(f\"Movie name is 🎥 --> {top_df.iloc[i]['title'].title()}\\n\")\n",
    "        print(f\"A brief overview of the movie: \\n{top_df.iloc[i]['overview']}\\n\\n\\n\")"
   ]
  },
  {
   "cell_type": "code",
   "execution_count": 43,
   "id": "26fe4d11-0982-4da0-8e7d-5b80e4465fd6",
   "metadata": {
    "scrolled": true
   },
   "outputs": [
    {
     "name": "stdin",
     "output_type": "stream",
     "text": [
      "Hey there! What's your taste in movies?  I like action movies set in space\n"
     ]
    },
    {
     "name": "stdout",
     "output_type": "stream",
     "text": [
      "\n",
      "Here are my TOP 5 recommendations!\n",
      "\n",
      "Movie name is 🎥 --> Alien Romulus\n",
      "\n",
      "A brief overview of the movie: \n",
      "while scavenging the deep ends of a derelict space station a group of young space colonizers come face to face with the most terrifying life form in the universe\n",
      "\n",
      "\n",
      "\n",
      "Movie name is 🎥 --> Interstellar\n",
      "\n",
      "A brief overview of the movie: \n",
      "the adventures of a group of explorers who make use of a newly discovered wormhole to surpass the limitations on human space travel and conquer the vast distances involved in an interstellar voyage\n",
      "\n",
      "\n",
      "\n",
      "Movie name is 🎥 --> Panda Plan\n",
      "\n",
      "A brief overview of the movie: \n",
      "international action star jackie chan is invited to the adoption ceremony of a rare baby panda but after an international crime syndicate attempts to kidnap the bear jackie has to save the bear using his stunt work skills\n",
      "\n",
      "\n",
      "\n",
      "Movie name is 🎥 --> Pirates Of The Caribbean The Curse Of The Black Pearl\n",
      "\n",
      "A brief overview of the movie: \n",
      "after port royal is attacked and pillaged by a mysterious pirate crew capturing the governors daughter elizabeth swann in the process william turner asks freewilling pirate jack sparrow to help him locate the crews shipthe black pearlso that he can rescue the woman he loves\n",
      "\n",
      "\n",
      "\n",
      "Movie name is 🎥 --> Nightbitch\n",
      "\n",
      "A brief overview of the movie: \n",
      "a woman thrown into the stayathome routine of raising a toddler in the suburbs slowly embraces the feral power deeply rooted in motherhood as she becomes increasingly aware of the bizarre and undeniable signs that she may be turning into a dog\n",
      "\n",
      "\n",
      "\n"
     ]
    }
   ],
   "source": [
    "# Run this cell that will ask for input and give movie recommendations based on your input!\n",
    "top_5_movies()"
   ]
  }
 ],
 "metadata": {
  "kernelspec": {
   "display_name": "Python 3 (ipykernel)",
   "language": "python",
   "name": "python3"
  },
  "language_info": {
   "codemirror_mode": {
    "name": "ipython",
    "version": 3
   },
   "file_extension": ".py",
   "mimetype": "text/x-python",
   "name": "python",
   "nbconvert_exporter": "python",
   "pygments_lexer": "ipython3",
   "version": "3.11.9"
  }
 },
 "nbformat": 4,
 "nbformat_minor": 5
}
